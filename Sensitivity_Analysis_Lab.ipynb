{
  "nbformat": 4,
  "nbformat_minor": 0,
  "metadata": {
    "colab": {
      "name": "Sensitivity Analysis Lab.ipynb",
      "provenance": [],
      "collapsed_sections": [],
      "include_colab_link": true
    },
    "kernelspec": {
      "name": "python3",
      "display_name": "Python 3"
    }
  },
  "cells": [
    {
      "cell_type": "markdown",
      "metadata": {
        "id": "view-in-github",
        "colab_type": "text"
      },
      "source": [
        "<a href=\"https://colab.research.google.com/github/Xifus/SA-lab/blob/master/Sensitivity_Analysis_Lab.ipynb\" target=\"_parent\"><img src=\"https://colab.research.google.com/assets/colab-badge.svg\" alt=\"Open In Colab\"/></a>"
      ]
    },
    {
      "cell_type": "code",
      "metadata": {
        "id": "khVbsK9yCOVV",
        "colab_type": "code",
        "colab": {}
      },
      "source": [
        "!pip install SAlib"
      ],
      "execution_count": 0,
      "outputs": []
    },
    {
      "cell_type": "markdown",
      "metadata": {
        "id": "wB0MZo7MH-dE",
        "colab_type": "text"
      },
      "source": [
        "We will work on Python during this Lab.\n",
        "\n",
        "SALib is an open source library written in Python for performing sensitivity analysis. A typical sensitivity analysis using SALib follows four steps:\n",
        "1. Determine the model inputs (parameters) and their sample range\n",
        "2. Run the sample function to generate the model inputs\n",
        "3. Evaluate the model using the generated inputs, saving the model outputs\n",
        "4. Run the analyze function on the outputs to compute the sensitivity indices\n",
        "\n",
        "SALib is the main package that we will play around today. With the help of google colab, the SALib package is already installed and ready to run."
      ]
    },
    {
      "cell_type": "code",
      "metadata": {
        "id": "3eYLte0JCfYd",
        "colab_type": "code",
        "colab": {}
      },
      "source": [
        "import numpy as np\n",
        "import matplotlib.pyplot as plt"
      ],
      "execution_count": 0,
      "outputs": []
    },
    {
      "cell_type": "markdown",
      "metadata": {
        "id": "y_uAyqZD4h0b",
        "colab_type": "text"
      },
      "source": [
        "One of the important things in python is that you have to import the corresponding functions first before you can use them. Numpy provides basic built in functions (random number generator in this case), and Matplotlib provides the ability to show figures."
      ]
    },
    {
      "cell_type": "markdown",
      "metadata": {
        "id": "76DNxk9I5BKS",
        "colab_type": "text"
      },
      "source": [
        "We import different sampling techniques ***sample***, sensitivity analysis method ***analyze*** and test functions ***test_functions*** from SALib package."
      ]
    },
    {
      "cell_type": "code",
      "metadata": {
        "id": "kbM7Xv2e3nbv",
        "colab_type": "code",
        "colab": {}
      },
      "source": [
        "from SALib.sample import latin\n",
        "from SALib.sample import sobol_sequence\n",
        "from SALib.sample import morris as morris_samp\n",
        "from SALib.sample import saltelli"
      ],
      "execution_count": 0,
      "outputs": []
    },
    {
      "cell_type": "code",
      "metadata": {
        "id": "4gCwGsz_3xnz",
        "colab_type": "code",
        "colab": {}
      },
      "source": [
        "from SALib.analyze import sobol\n",
        "from SALib.analyze import morris"
      ],
      "execution_count": 0,
      "outputs": []
    },
    {
      "cell_type": "code",
      "metadata": {
        "id": "ISUFym2n4SK7",
        "colab_type": "code",
        "colab": {}
      },
      "source": [
        "from SALib.test_functions import Ishigami\n",
        "from SALib.test_functions import Sobol_G"
      ],
      "execution_count": 0,
      "outputs": []
    },
    {
      "cell_type": "markdown",
      "metadata": {
        "id": "ENnYnafE5oW7",
        "colab_type": "text"
      },
      "source": [
        "Scatter plots for Random, Latin Hypercube, and Sobol' sequence. The default sample size (N) is 100. You can change the sample size and observe the scatter plots.  "
      ]
    },
    {
      "cell_type": "code",
      "metadata": {
        "id": "7LjGlBBf5o0i",
        "colab_type": "code",
        "colab": {}
      },
      "source": [
        "problem ={'num_vars': 2,\n",
        "          'names': ['x1', 'x2'],\n",
        "          'bounds': [[0, 1],\n",
        "                     [0, 1]]}\n",
        "N = 100"
      ],
      "execution_count": 0,
      "outputs": []
    },
    {
      "cell_type": "markdown",
      "metadata": {
        "id": "Vn6zeGaYCLko",
        "colab_type": "text"
      },
      "source": [
        "Random sampling"
      ]
    },
    {
      "cell_type": "code",
      "metadata": {
        "id": "8C_PNdrq5vFq",
        "colab_type": "code",
        "colab": {}
      },
      "source": [
        "rand_samp = np.random.rand(N, 2)\n",
        "plt.figure()\n",
        "plt.scatter(rand_samp[:,0], rand_samp[:, 1])\n",
        "plt.title('Random')\n",
        "plt.show()"
      ],
      "execution_count": 0,
      "outputs": []
    },
    {
      "cell_type": "markdown",
      "metadata": {
        "id": "EKgAsEJmCNo3",
        "colab_type": "text"
      },
      "source": [
        "Latin Hypercube"
      ]
    },
    {
      "cell_type": "code",
      "metadata": {
        "id": "cwf8AOXy5vrq",
        "colab_type": "code",
        "colab": {}
      },
      "source": [
        "latin_samp = latin.sample(problem, N)\n",
        "plt.figure()\n",
        "plt.scatter(latin_samp[:,0], latin_samp[:, 1])\n",
        "plt.title('Latin Hypercube')\n",
        "plt.show()"
      ],
      "execution_count": 0,
      "outputs": []
    },
    {
      "cell_type": "markdown",
      "metadata": {
        "id": "Rf9LPLIuCPZ3",
        "colab_type": "text"
      },
      "source": [
        "Sobol' sequence"
      ]
    },
    {
      "cell_type": "code",
      "metadata": {
        "id": "E_Lm2BWE5xMS",
        "colab_type": "code",
        "colab": {}
      },
      "source": [
        "sobol_samp = sobol_sequence.sample(N, 2)\n",
        "plt.figure()\n",
        "plt.scatter(sobol_samp[:,0], sobol_samp[:, 1])\n",
        "plt.title('Sobol\\' sequence')\n",
        "plt.show()"
      ],
      "execution_count": 0,
      "outputs": []
    },
    {
      "cell_type": "markdown",
      "metadata": {
        "id": "Zx1-RyS7CdA5",
        "colab_type": "text"
      },
      "source": [
        "Put all three sampling methods together"
      ]
    },
    {
      "cell_type": "code",
      "metadata": {
        "id": "9fqWN9tA5y7C",
        "colab_type": "code",
        "colab": {}
      },
      "source": [
        "plt.figure(figsize = (10, 10))\n",
        "plt.scatter(rand_samp[:,0], rand_samp[:, 1], c = 'r', label = 'rand')\n",
        "plt.scatter(latin_samp[:,0], latin_samp[:, 1], c = 'b', label = 'latin')\n",
        "plt.scatter(sobol_samp[:,0], sobol_samp[:, 1], c = 'k', label = 'sobol')\n",
        "plt.legend(loc = 'best')\n",
        "plt.show()"
      ],
      "execution_count": 0,
      "outputs": []
    },
    {
      "cell_type": "markdown",
      "metadata": {
        "id": "d-sMJUUf52yq",
        "colab_type": "text"
      },
      "source": [
        "Next is an example of Monte Carlo on approximating the value of Pi by using different sampling techniques. You can comment (#) or uncomment (remove # at the beginning of the line) to use different sampling techniques. How close can you get? How does the number of samples affect your approximation?"
      ]
    },
    {
      "cell_type": "code",
      "metadata": {
        "id": "_rNX2iHu50U6",
        "colab_type": "code",
        "colab": {}
      },
      "source": [
        "N_sample = 1000\n",
        "MC_rand = np.random.rand(N_sample, 2)\n",
        "#MC_latin = latin.sample(problem, N_sample)\n",
        "#MC_sobol = sobol_sequence.sample(N_sample, 2)\n",
        "#MC_saltelli = saltelli.sample(problem, N_sample)\n",
        "count = 0\n",
        "for i in range(N_sample):\n",
        "    if MC_rand[i, 0]**2 + MC_rand[i, 1]**2 < 1.0:\n",
        "        count += 1\n",
        "pi_approx = count/N_sample * 4\n",
        "print('real pi = ', np.pi)\n",
        "print('approximated = ', pi_approx)"
      ],
      "execution_count": 0,
      "outputs": []
    },
    {
      "cell_type": "markdown",
      "metadata": {
        "id": "72Ukn4d37T0z",
        "colab_type": "text"
      },
      "source": [
        "**Sensitivity analysis method in application**"
      ]
    },
    {
      "cell_type": "markdown",
      "metadata": {
        "id": "cWoVxV3L7j6C",
        "colab_type": "text"
      },
      "source": [
        "After you defining the model inputs (ex. problem = {'num_vars', 'names', 'bounds'}), the workflow looks like this:\n",
        "\n",
        "\n",
        "1.   Generate Samples (ex. param values = latin.sample(problem, 1000))\n",
        "2.   Run the Model (ex. Y = Ishigami.evaluate(param values))\n",
        "3.   Perform Analysis (ex. Si = sobol.analyze(problem, Y))\n",
        "\n",
        "\n"
      ]
    },
    {
      "cell_type": "markdown",
      "metadata": {
        "id": "NtnPmpin-Eeq",
        "colab_type": "text"
      },
      "source": [
        "First, we use Ishigami Homma functinon \n",
        "\n",
        "![](https://raw.githubusercontent.com/Xifus/SA-lab/master/ishigami.PNG)"
      ]
    },
    {
      "cell_type": "code",
      "metadata": {
        "id": "pqQN2dbx7XOS",
        "colab_type": "code",
        "colab": {}
      },
      "source": [
        "ishigami_problem ={\n",
        "    'num_vars': 3,\n",
        "    'names': ['x1', 'x2', 'x3'],\n",
        "    'bounds': [[-3.14159265359, 3.14159265359],\n",
        "               [-3.14159265359, 3.14159265359],\n",
        "               [-3.14159265359, 3.14159265359]]\n",
        "}"
      ],
      "execution_count": 0,
      "outputs": []
    },
    {
      "cell_type": "code",
      "metadata": {
        "id": "he5t4NjQ7X2S",
        "colab_type": "code",
        "colab": {}
      },
      "source": [
        "X_morris = morris_samp.sample(ishigami_problem, 1000, num_levels=4)\n",
        "Y_morris = Ishigami.evaluate(X_morris)\n",
        "Si_morris = morris.analyze(ishigami_problem, X_morris, Y_morris, conf_level=0.95, print_to_console=True, num_levels=4)"
      ],
      "execution_count": 0,
      "outputs": []
    },
    {
      "cell_type": "markdown",
      "metadata": {
        "id": "taq7skhn8spi",
        "colab_type": "text"
      },
      "source": [
        "**Morris Method: Perform Morris Analysis on model outputs**\n",
        "\n",
        "---\n",
        "SALib.analyze.morris.analyze(problem, X, Y, num_resamples = 1000,\n",
        "conf_level = 0.95, print_to_console = False, num_levels = 4)\n",
        "\n",
        "---\n",
        "\n",
        "\n",
        "\n",
        "\n",
        "**Parameters**:\n",
        "\n",
        "problem (dict) – The problem definition\n",
        "\n",
        "X (numpy.matrix) – The NumPy matrix containing the model inputs\n",
        "of dtype=float\n",
        "\n",
        "X (numpy.matrix) – The NumPy matrix containing the model inputs\n",
        "of dtype=float\n",
        "\n",
        "num resamples (int) – The number of resamples used to compute the\n",
        "confidence intervals (default 1000)\n",
        "\n",
        "conf level (float) – The confidence interval level (default 0.95)\n",
        "\n",
        "print to console (bool) – Print results directly to console (default\n",
        "False)\n",
        "\n",
        "num levels (int) – The number of grid levels, must be identical to the\n",
        "value passed to SALib.sample.morris (default 4)\n",
        "\n",
        "**Returns**:\n",
        "\n",
        "Si – A dictionary of sensitivity indices containing the following\n",
        "entries.\n",
        "\n",
        "mu - the mean elementary effect\n",
        "\n",
        "mu star - the absolute of the mean elementary effect\n",
        "\n",
        "sigma - the standard deviation of the elementary effect\n",
        "\n",
        "mu star conf - the bootstrapped confidence interval\n",
        "\n",
        "names - the names of the parameters"
      ]
    },
    {
      "cell_type": "code",
      "metadata": {
        "id": "PCuwiJrV7aY5",
        "colab_type": "code",
        "colab": {}
      },
      "source": [
        "X_sobol = latin.sample(ishigami_problem, 1000)\n",
        "Y_sobol = Ishigami.evaluate(X_sobol)\n",
        "Si_sobol = sobol.analyze(ishigami_problem, Y_sobol, print_to_console=True)"
      ],
      "execution_count": 0,
      "outputs": []
    },
    {
      "cell_type": "markdown",
      "metadata": {
        "id": "CNZcKCWE9NUT",
        "colab_type": "text"
      },
      "source": [
        "**Sobol’ Method: Perform Sobol’ Analysis on model outputs**\n",
        "\n",
        "\n",
        "---\n",
        "\n",
        "SALib.analyze.sobol.analyze(problem, Y, calc_second_order=True,\n",
        "num_resamples=100, conf_level=0.95, print_to_console=False)\n",
        "\n",
        "---\n",
        "\n",
        "\n",
        "\n",
        "**Parameters**:\n",
        "\n",
        "problem (dict) – The problem definition\n",
        "\n",
        "Y (numpy.array) – A NumPy array containing the model outputs\n",
        "\n",
        "calc second order (bool) – Calculate second-order sensitivities (default True)\n",
        "\n",
        "num resamples (int) – The number of resamples (default 100)\n",
        "\n",
        "conf level (float) – The confidence interval level (default 0.95)\n",
        "\n",
        "print to console (bool) – Print results directly to console (default\n",
        "False)\n",
        "\n",
        "**Returns**: \n",
        "\n",
        "Si – A dictionary of sensitivity indices containing the following\n",
        "entries.\n",
        "\n",
        "S1 - the first order sensitivity\n",
        "\n",
        "S1 conf - the confidence interval of the first order sensitivity with a\n",
        "confidence level of 95%\n",
        "\n",
        "ST - the total effect sensitivity\n",
        "\n",
        "ST conf - the confidence interval of the total effect sensitivity with a\n",
        "confidence level of 95%\n",
        "\n",
        "S2 - the second order sensitivity (if calc second order is True)\n",
        "\n",
        "S2 conf - the confidence interval of second order sensitivity with a\n",
        "confidence level of 95% (if calc second order is True)"
      ]
    },
    {
      "cell_type": "code",
      "metadata": {
        "id": "zMgTwcTU7cXi",
        "colab_type": "code",
        "colab": {}
      },
      "source": [
        "X_sobol_sal = saltelli.sample(ishigami_problem, 1000)\n",
        "Y_sobol_sal = Ishigami.evaluate(X_sobol_sal)\n",
        "Si_sobol_sal = sobol.analyze(ishigami_problem, Y_sobol_sal, print_to_console=True)"
      ],
      "execution_count": 0,
      "outputs": []
    },
    {
      "cell_type": "markdown",
      "metadata": {
        "id": "KY91uKTG_LDJ",
        "colab_type": "text"
      },
      "source": [
        "Now, we use V-function (Sobol g-function) and try the different methods.\n",
        "\n",
        "![](https://raw.githubusercontent.com/Xifus/SA-lab/master/sobolG.PNG)"
      ]
    },
    {
      "cell_type": "code",
      "metadata": {
        "id": "hTpORlOV_1oZ",
        "colab_type": "code",
        "colab": {}
      },
      "source": [
        "V_problem ={'num_vars': 8,\n",
        "          'names': ['x1', 'x2', 'x3', 'x4', 'x5', 'x6', 'x7', 'x8'],\n",
        "          'bounds': [[0, 1]]*8}"
      ],
      "execution_count": 0,
      "outputs": []
    },
    {
      "cell_type": "code",
      "metadata": {
        "id": "fiPEd3IA_3TB",
        "colab_type": "code",
        "colab": {}
      },
      "source": [
        "X_morris_V = morris_samp.sample(V_problem, 999, num_levels=4)\n",
        "Y_morris_V = Sobol_G.evaluate(X_morris_V)\n",
        "Si_morris_V = morris.analyze(V_problem, X_morris_V, Y_morris_V, conf_level=0.95, print_to_console=True, num_levels=4)"
      ],
      "execution_count": 0,
      "outputs": []
    },
    {
      "cell_type": "code",
      "metadata": {
        "id": "W0Dvin8A_4uX",
        "colab_type": "code",
        "colab": {}
      },
      "source": [
        "X_sobol_V = latin.sample(V_problem, 990)\n",
        "Y_sobol_V = Sobol_G.evaluate(X_sobol_V)\n",
        "Si_sobol_V = sobol.analyze(V_problem, Y_sobol_V, print_to_console=True)"
      ],
      "execution_count": 0,
      "outputs": []
    },
    {
      "cell_type": "code",
      "metadata": {
        "id": "_YL_056V_7q_",
        "colab_type": "code",
        "colab": {}
      },
      "source": [
        "X_sobol_V_sal = saltelli.sample(V_problem, 1000)\n",
        "Y_sobol_V_sal = Sobol_G.evaluate(X_sobol_V_sal)\n",
        "Si_sobol_V_sal = sobol.analyze(V_problem, Y_sobol_V_sal, print_to_console=True)"
      ],
      "execution_count": 0,
      "outputs": []
    },
    {
      "cell_type": "markdown",
      "metadata": {
        "id": "3xbYdw9O_-8v",
        "colab_type": "text"
      },
      "source": [
        "**Convergence**\n",
        "\n",
        "Try different samples and see how good the convergence is. How many samples do you need to get a reliable results? What is the accuracy?\n",
        "\n",
        "Use the knowledge from previous steps and try to use different sampling techniques/sensitivity analysis method/sensitivity measures.\n",
        "\n",
        "For example, changing Saltelli sampling method to Latin Hypercube; changing Sobol method to Morris method; changing first order to total effect.\n",
        "\n",
        "Note: Morris method uses its own sampling method."
      ]
    },
    {
      "cell_type": "code",
      "metadata": {
        "id": "9bwYtva__9HX",
        "colab_type": "code",
        "colab": {}
      },
      "source": [
        "N_samples = [1000, 5000, 10000, 50000, 100000, 500000]"
      ],
      "execution_count": 0,
      "outputs": []
    },
    {
      "cell_type": "code",
      "metadata": {
        "id": "fKC7ZDl3ACc_",
        "colab_type": "code",
        "colab": {}
      },
      "source": [
        "var_num = 3"
      ],
      "execution_count": 0,
      "outputs": []
    },
    {
      "cell_type": "code",
      "metadata": {
        "id": "m1x3dYKLAEFQ",
        "colab_type": "code",
        "colab": {}
      },
      "source": [
        "S1_cache = np.zeros((len(N_samples), var_num))\n",
        "ST_cache = S1_cache.copy()"
      ],
      "execution_count": 0,
      "outputs": []
    },
    {
      "cell_type": "code",
      "metadata": {
        "id": "moif_Ip8AFVC",
        "colab_type": "code",
        "colab": {}
      },
      "source": [
        "for i in range(len(N_samples)):\n",
        "    X_sobol_N = saltelli.sample(ishigami_problem, N_samples[i])\n",
        "    Y_sobol_N = Ishigami.evaluate(X_sobol_N)\n",
        "    Si_sobol_N = sobol.analyze(ishigami_problem, Y_sobol_N, print_to_console=False)\n",
        "    S1_cache[i, :] = Si_sobol_N['S1']\n",
        "    ST_cache[i, :] = Si_sobol_N['ST']"
      ],
      "execution_count": 0,
      "outputs": []
    },
    {
      "cell_type": "code",
      "metadata": {
        "id": "baRbmizKAGn4",
        "colab_type": "code",
        "colab": {}
      },
      "source": [
        "plt.figure()\n",
        "plt.plot(S1_cache[:, 0])\n",
        "plt.axhline(y = 0.3139, c = 'r', linestyle = '--', label = 'exact value')\n",
        "plt.legend(loc = 'best')\n",
        "plt.xticks(np.arange(len(N_samples)), N_samples)\n",
        "plt.show()"
      ],
      "execution_count": 0,
      "outputs": []
    },
    {
      "cell_type": "markdown",
      "metadata": {
        "id": "P4VcTT6GBVcw",
        "colab_type": "text"
      },
      "source": [
        "Here are the exact values for first order and total effect sensitivity indices for reference.\n",
        "\n",
        "***Ishigami Homma Function***\n",
        "\n",
        "![](https://raw.githubusercontent.com/Xifus/SA-lab/master/ishigami_sobol.PNG)\n",
        "\n",
        "\n",
        "***V-Fnction (Sobol g-Function)***\n",
        "\n",
        "![](https://raw.githubusercontent.com/Xifus/SA-lab/master/gsobol_sobol.PNG)"
      ]
    }
  ]
}