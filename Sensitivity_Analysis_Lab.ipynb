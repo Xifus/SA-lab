{
  "nbformat": 4,
  "nbformat_minor": 0,
  "metadata": {
    "colab": {
      "name": "Sensitivity Analysis Lab.ipynb",
      "provenance": [],
      "collapsed_sections": [],
      "include_colab_link": true
    },
    "kernelspec": {
      "name": "python3",
      "display_name": "Python 3"
    }
  },
  "cells": [
    {
      "cell_type": "markdown",
      "metadata": {
        "id": "view-in-github",
        "colab_type": "text"
      },
      "source": [
        "<a href=\"https://colab.research.google.com/github/Xifus/SA-lab/blob/master/Sensitivity_Analysis_Lab.ipynb\" target=\"_parent\"><img src=\"https://colab.research.google.com/assets/colab-badge.svg\" alt=\"Open In Colab\"/></a>"
      ]
    },
    {
      "cell_type": "code",
      "metadata": {
        "id": "khVbsK9yCOVV",
        "colab_type": "code",
        "colab": {
          "base_uri": "https://localhost:8080/",
          "height": 374
        },
        "outputId": "ebfe634b-7aa8-46a0-946a-6b4e3e4588e7"
      },
      "source": [
        "!pip install SAlib"
      ],
      "execution_count": 3,
      "outputs": [
        {
          "output_type": "stream",
          "text": [
            "Collecting SAlib\n",
            "\u001b[?25l  Downloading https://files.pythonhosted.org/packages/e2/e8/bfdd50ff780c5aa65a814ab6302b4d240b562b6a6f69faae6e2bee8baa18/SALib-1.3.8.tar.gz (854kB)\n",
            "\u001b[K     |████████████████████████████████| 860kB 4.8MB/s \n",
            "\u001b[?25hRequirement already satisfied: numpy in /usr/local/lib/python3.6/dist-packages (from SAlib) (1.16.5)\n",
            "Requirement already satisfied: scipy in /usr/local/lib/python3.6/dist-packages (from SAlib) (1.3.1)\n",
            "Requirement already satisfied: matplotlib in /usr/local/lib/python3.6/dist-packages (from SAlib) (3.0.3)\n",
            "Requirement already satisfied: pandas in /usr/local/lib/python3.6/dist-packages (from SAlib) (0.24.2)\n",
            "Requirement already satisfied: pyparsing!=2.0.4,!=2.1.2,!=2.1.6,>=2.0.1 in /usr/local/lib/python3.6/dist-packages (from matplotlib->SAlib) (2.4.2)\n",
            "Requirement already satisfied: kiwisolver>=1.0.1 in /usr/local/lib/python3.6/dist-packages (from matplotlib->SAlib) (1.1.0)\n",
            "Requirement already satisfied: python-dateutil>=2.1 in /usr/local/lib/python3.6/dist-packages (from matplotlib->SAlib) (2.5.3)\n",
            "Requirement already satisfied: cycler>=0.10 in /usr/local/lib/python3.6/dist-packages (from matplotlib->SAlib) (0.10.0)\n",
            "Requirement already satisfied: pytz>=2011k in /usr/local/lib/python3.6/dist-packages (from pandas->SAlib) (2018.9)\n",
            "Requirement already satisfied: setuptools in /usr/local/lib/python3.6/dist-packages (from kiwisolver>=1.0.1->matplotlib->SAlib) (41.2.0)\n",
            "Requirement already satisfied: six>=1.5 in /usr/local/lib/python3.6/dist-packages (from python-dateutil>=2.1->matplotlib->SAlib) (1.12.0)\n",
            "Building wheels for collected packages: SAlib\n",
            "  Building wheel for SAlib (setup.py) ... \u001b[?25l\u001b[?25hdone\n",
            "  Created wheel for SAlib: filename=SALib-1.3.8-py2.py3-none-any.whl size=728616 sha256=116bba8629daef15e1bb23054e0825257c0628b1bf371841fc3a4e7ad17e3c24\n",
            "  Stored in directory: /root/.cache/pip/wheels/be/82/be/c7769493a512ba0863312f12627c1f2fadb4a96e1f24f295ee\n",
            "Successfully built SAlib\n",
            "Installing collected packages: SAlib\n",
            "Successfully installed SAlib-1.3.8\n"
          ],
          "name": "stdout"
        }
      ]
    },
    {
      "cell_type": "markdown",
      "metadata": {
        "id": "wB0MZo7MH-dE",
        "colab_type": "text"
      },
      "source": [
        "We will work on Python during this Lab.\n",
        "\n",
        "SALib is an open source library written in Python for performing sensitivity analysis. A typical sensitivity analysis using SALib follows four steps:\n",
        "1. Determine the model inputs (parameters) and their sample range\n",
        "2. Run the sample function to generate the model inputs\n",
        "3. Evaluate the model using the generated inputs, saving the model outputs\n",
        "4. Run the analyze function on the outputs to compute the sensitivity indices\n",
        "\n",
        "SALib is the main package that we will play around today. With the help of google colab, the SALib package is already installed and ready to run."
      ]
    },
    {
      "cell_type": "code",
      "metadata": {
        "id": "3eYLte0JCfYd",
        "colab_type": "code",
        "colab": {}
      },
      "source": [
        "import numpy as np\n",
        "import matplotlib.pyplot as plt"
      ],
      "execution_count": 0,
      "outputs": []
    },
    {
      "cell_type": "markdown",
      "metadata": {
        "id": "y_uAyqZD4h0b",
        "colab_type": "text"
      },
      "source": [
        "One of the important things in python is that you have to import the corresponding functions first before you can use them. Numpy provides basic built in functions (random number generator in this case), and Matplotlib provides the ability to show figures."
      ]
    },
    {
      "cell_type": "markdown",
      "metadata": {
        "id": "76DNxk9I5BKS",
        "colab_type": "text"
      },
      "source": [
        "We import different sampling techniques ***sample***, sensitivity analysis method ***analyze*** and test functions ***test_functions*** from SALib package."
      ]
    },
    {
      "cell_type": "code",
      "metadata": {
        "id": "kbM7Xv2e3nbv",
        "colab_type": "code",
        "colab": {}
      },
      "source": [
        "from SALib.sample import latin\n",
        "from SALib.sample import sobol_sequence\n",
        "from SALib.sample import morris as morris_samp\n",
        "from SALib.sample import saltelli"
      ],
      "execution_count": 0,
      "outputs": []
    },
    {
      "cell_type": "code",
      "metadata": {
        "id": "4gCwGsz_3xnz",
        "colab_type": "code",
        "colab": {}
      },
      "source": [
        "from SALib.analyze import sobol\n",
        "from SALib.analyze import morris"
      ],
      "execution_count": 0,
      "outputs": []
    },
    {
      "cell_type": "code",
      "metadata": {
        "id": "ISUFym2n4SK7",
        "colab_type": "code",
        "colab": {}
      },
      "source": [
        "from SALib.test_functions import Ishigami\n",
        "from SALib.test_functions import Sobol_G"
      ],
      "execution_count": 0,
      "outputs": []
    },
    {
      "cell_type": "markdown",
      "metadata": {
        "id": "ENnYnafE5oW7",
        "colab_type": "text"
      },
      "source": [
        "Scatter plots for Random, Latin Hypercube, and Sobol' sequence. The default sample size (N) is 100. You can change the sample size and observe the scatter plots.  "
      ]
    },
    {
      "cell_type": "code",
      "metadata": {
        "id": "7LjGlBBf5o0i",
        "colab_type": "code",
        "colab": {}
      },
      "source": [
        "problem ={'num_vars': 2,\n",
        "          'names': ['x1', 'x2'],\n",
        "          'bounds': [[0, 1],\n",
        "                     [0, 1]]}\n",
        "N = 100"
      ],
      "execution_count": 0,
      "outputs": []
    },
    {
      "cell_type": "markdown",
      "metadata": {
        "id": "Vn6zeGaYCLko",
        "colab_type": "text"
      },
      "source": [
        "Random sampling"
      ]
    },
    {
      "cell_type": "code",
      "metadata": {
        "id": "8C_PNdrq5vFq",
        "colab_type": "code",
        "colab": {
          "base_uri": "https://localhost:8080/",
          "height": 281
        },
        "outputId": "da02e1e5-6300-4138-a103-906341197609"
      },
      "source": [
        "rand_samp = np.random.rand(N, 2)\n",
        "plt.figure()\n",
        "plt.scatter(rand_samp[:,0], rand_samp[:, 1])\n",
        "plt.title('Random')\n",
        "plt.show()"
      ],
      "execution_count": 13,
      "outputs": [
        {
          "output_type": "display_data",
          "data": {
            "image/png": "[encoded data removed]",
            "text/plain": [
              "<Figure size 432x288 with 1 Axes>"
            ]
          },
          "metadata": {
            "tags": []
          }
        }
      ]
    },
    {
      "cell_type": "markdown",
      "metadata": {
        "id": "EKgAsEJmCNo3",
        "colab_type": "text"
      },
      "source": [
        "Latin Hypercube"
      ]
    },
    {
      "cell_type": "code",
      "metadata": {
        "id": "cwf8AOXy5vrq",
        "colab_type": "code",
        "colab": {
          "base_uri": "https://localhost:8080/",
          "height": 281
        },
        "outputId": "4ecb3ac5-6b92-47fa-d915-04ca7a57e7ea"
      },
      "source": [
        "latin_samp = latin.sample(problem, N)\n",
        "plt.figure()\n",
        "plt.scatter(latin_samp[:,0], latin_samp[:, 1])\n",
        "plt.title('Latin Hypercube')\n",
        "plt.show()"
      ],
      "execution_count": 14,
      "outputs": [
        {
          "output_type": "display_data",
          "data": {
            "image/png": "[encoded data removed]",
            "text/plain": [
              "<Figure size 432x288 with 1 Axes>"
            ]
          },
          "metadata": {
            "tags": []
          }
        }
      ]
    },
    {
      "cell_type": "markdown",
      "metadata": {
        "id": "Rf9LPLIuCPZ3",
        "colab_type": "text"
      },
      "source": [
        "Sobol' sequence"
      ]
    },
    {
      "cell_type": "code",
      "metadata": {
        "id": "E_Lm2BWE5xMS",
        "colab_type": "code",
        "colab": {
          "base_uri": "https://localhost:8080/",
          "height": 281
        },
        "outputId": "320228ee-800e-4aac-b207-855924b7c2fc"
      },
      "source": [
        "sobol_samp = sobol_sequence.sample(N, 2)\n",
        "plt.figure()\n",
        "plt.scatter(sobol_samp[:,0], sobol_samp[:, 1])\n",
        "plt.title('Sobol\\' sequence')\n",
        "plt.show()"
      ],
      "execution_count": 15,
      "outputs": [
        {
          "output_type": "display_data",
          "data": {
            "image/png": "[encoded data removed]",
            "text/plain": [
              "<Figure size 432x288 with 1 Axes>"
            ]
          },
          "metadata": {
            "tags": []
          }
        }
      ]
    },
    {
      "cell_type": "markdown",
      "metadata": {
        "id": "Zx1-RyS7CdA5",
        "colab_type": "text"
      },
      "source": [
        "Put all three sampling methods together"
      ]
    },
    {
      "cell_type": "code",
      "metadata": {
        "id": "9fqWN9tA5y7C",
        "colab_type": "code",
        "colab": {
          "base_uri": "https://localhost:8080/",
          "height": 595
        },
        "outputId": "f7e1f975-7aa2-4eab-a9ec-a10fb77083d9"
      },
      "source": [
        "plt.figure(figsize = (10, 10))\n",
        "plt.scatter(rand_samp[:,0], rand_samp[:, 1], c = 'r', label = 'rand')\n",
        "plt.scatter(latin_samp[:,0], latin_samp[:, 1], c = 'b', label = 'latin')\n",
        "plt.scatter(sobol_samp[:,0], sobol_samp[:, 1], c = 'k', label = 'sobol')\n",
        "plt.legend(loc = 'best')\n",
        "plt.show()"
      ],
      "execution_count": 12,
      "outputs": [
        {
          "output_type": "display_data",
          "data": {
            "image/png": "[encoded data removed]",
            "text/plain": [
              "<Figure size 720x720 with 1 Axes>"
            ]
          },
          "metadata": {
            "tags": []
          }
        }
      ]
    },
    {
      "cell_type": "markdown",
      "metadata": {
        "id": "d-sMJUUf52yq",
        "colab_type": "text"
      },
      "source": [
        "Next is an example of Monte Carlo on approximating the value of Pi by using different sampling techniques. You can comment (#) or uncomment (remove # at the beginning of the line) to use different sampling techniques. How close can you get? How does the number of samples affect your approximation?"
      ]
    },
    {
      "cell_type": "code",
      "metadata": {
        "id": "_rNX2iHu50U6",
        "colab_type": "code",
        "colab": {
          "base_uri": "https://localhost:8080/",
          "height": 51
        },
        "outputId": "ae72ba86-ba2d-47a6-9ab9-756af158ca4a"
      },
      "source": [
        "N_sample = 1000\n",
        "MC_rand = np.random.rand(N_sample, 2)\n",
        "#MC_latin = latin.sample(problem, N_sample)\n",
        "#MC_sobol = sobol_sequence.sample(N_sample, 2)\n",
        "#MC_saltelli = saltelli.sample(problem, N_sample)\n",
        "count = 0\n",
        "for i in range(N_sample):\n",
        "    if MC_rand[i, 0]**2 + MC_rand[i, 1]**2 < 1.0:\n",
        "        count += 1\n",
        "pi_approx = count/N_sample * 4\n",
        "print('real pi = ', np.pi)\n",
        "print('approximated = ', pi_approx)"
      ],
      "execution_count": 16,
      "outputs": [
        {
          "output_type": "stream",
          "text": [
            "real pi =  3.141592653589793\n",
            "approximated =  3.192\n"
          ],
          "name": "stdout"
        }
      ]
    },
    {
      "cell_type": "markdown",
      "metadata": {
        "id": "72Ukn4d37T0z",
        "colab_type": "text"
      },
      "source": [
        "**Sensitivity analysis method in application**"
      ]
    },
    {
      "cell_type": "markdown",
      "metadata": {
        "id": "cWoVxV3L7j6C",
        "colab_type": "text"
      },
      "source": [
        "After you defining the model inputs (ex. problem = {'num_vars', 'names', 'bounds'}), the workflow looks like this:\n",
        "\n",
        "\n",
        "1.   Generate Samples (ex. param values = latin.sample(problem, 1000))\n",
        "2.   Run the Model (ex. Y = Ishigami.evaluate(param values))\n",
        "3.   Perform Analysis (ex. Si = sobol.analyze(problem, Y))\n",
        "\n",
        "\n"
      ]
    },
    {
      "cell_type": "markdown",
      "metadata": {
        "id": "NtnPmpin-Eeq",
        "colab_type": "text"
      },
      "source": [
        "First, we use Ishigami Homma functinon \n",
        "\n",
        "![](https://raw.githubusercontent.com/Xifus/SA-lab/master/ishigami.PNG)"
      ]
    },
    {
      "cell_type": "code",
      "metadata": {
        "id": "pqQN2dbx7XOS",
        "colab_type": "code",
        "colab": {}
      },
      "source": [
        "ishigami_problem ={\n",
        "    'num_vars': 3,\n",
        "    'names': ['x1', 'x2', 'x3'],\n",
        "    'bounds': [[-3.14159265359, 3.14159265359],\n",
        "               [-3.14159265359, 3.14159265359],\n",
        "               [-3.14159265359, 3.14159265359]]\n",
        "}"
      ],
      "execution_count": 0,
      "outputs": []
    },
    {
      "cell_type": "code",
      "metadata": {
        "id": "he5t4NjQ7X2S",
        "colab_type": "code",
        "colab": {
          "base_uri": "https://localhost:8080/",
          "height": 85
        },
        "outputId": "a997b100-a5b4-4070-f6e6-c4cd15f0a0f4"
      },
      "source": [
        "X_morris = morris_samp.sample(ishigami_problem, 1000, num_levels=4)\n",
        "Y_morris = Ishigami.evaluate(X_morris)\n",
        "Si_morris = morris.analyze(ishigami_problem, X_morris, Y_morris, conf_level=0.95, print_to_console=True, num_levels=4)"
      ],
      "execution_count": 18,
      "outputs": [
        {
          "output_type": "stream",
          "text": [
            "Parameter                         Mu_Star         Mu    Mu_Star_Conf      Sigma\n",
            "x1                                  8.054      8.054           0.375      6.242\n",
            "x2                                  7.875     -0.347           0.000      7.871\n",
            "x3                                  6.199      0.350           0.392      8.799\n"
          ],
          "name": "stdout"
        }
      ]
    },
    {
      "cell_type": "markdown",
      "metadata": {
        "id": "taq7skhn8spi",
        "colab_type": "text"
      },
      "source": [
        "**Morris Method: Perform Morris Analysis on model outputs**\n",
        "\n",
        "---\n",
        "SALib.analyze.morris.analyze(problem, X, Y, num_resamples = 1000,\n",
        "conf_level = 0.95, print_to_console = False, num_levels = 4)\n",
        "\n",
        "---\n",
        "\n",
        "\n",
        "\n",
        "\n",
        "**Parameters**:\n",
        "\n",
        "problem (dict) – The problem definition\n",
        "\n",
        "X (numpy.matrix) – The NumPy matrix containing the model inputs\n",
        "of dtype=float\n",
        "\n",
        "X (numpy.matrix) – The NumPy matrix containing the model inputs\n",
        "of dtype=float\n",
        "\n",
        "num resamples (int) – The number of resamples used to compute the\n",
        "confidence intervals (default 1000)\n",
        "\n",
        "conf level (float) – The confidence interval level (default 0.95)\n",
        "\n",
        "print to console (bool) – Print results directly to console (default\n",
        "False)\n",
        "\n",
        "num levels (int) – The number of grid levels, must be identical to the\n",
        "value passed to SALib.sample.morris (default 4)\n",
        "\n",
        "**Returns**:\n",
        "\n",
        "Si – A dictionary of sensitivity indices containing the following\n",
        "entries.\n",
        "\n",
        "mu - the mean elementary effect\n",
        "\n",
        "mu star - the absolute of the mean elementary effect\n",
        "\n",
        "sigma - the standard deviation of the elementary effect\n",
        "\n",
        "mu star conf - the bootstrapped confidence interval\n",
        "\n",
        "names - the names of the parameters"
      ]
    },
    {
      "cell_type": "code",
      "metadata": {
        "id": "PCuwiJrV7aY5",
        "colab_type": "code",
        "colab": {
          "base_uri": "https://localhost:8080/",
          "height": 170
        },
        "outputId": "32875e4c-fbf3-4da4-8278-f3cde431dc4a"
      },
      "source": [
        "X_sobol = latin.sample(ishigami_problem, 1000)\n",
        "Y_sobol = Ishigami.evaluate(X_sobol)\n",
        "Si_sobol = sobol.analyze(ishigami_problem, Y_sobol, print_to_console=True)"
      ],
      "execution_count": 20,
      "outputs": [
        {
          "output_type": "stream",
          "text": [
            "Parameter S1 S1_conf ST ST_conf\n",
            "x1 -0.244588 0.202962 1.242234 0.357518\n",
            "x2 -0.104023 0.217810 0.975953 0.290316\n",
            "x3 -0.131621 0.242004 0.929083 0.201621\n",
            "\n",
            "Parameter_1 Parameter_2 S2 S2_conf\n",
            "x1 x2 0.075271 0.350154\n",
            "x1 x3 0.247637 0.313115\n",
            "x2 x3 0.004388 0.320745\n"
          ],
          "name": "stdout"
        }
      ]
    },
    {
      "cell_type": "markdown",
      "metadata": {
        "id": "CNZcKCWE9NUT",
        "colab_type": "text"
      },
      "source": [
        "**Sobol’ Method: Perform Sobol’ Analysis on model outputs**\n",
        "\n",
        "\n",
        "---\n",
        "\n",
        "SALib.analyze.sobol.analyze(problem, Y, calc_second_order=True,\n",
        "num_resamples=100, conf_level=0.95, print_to_console=False)\n",
        "\n",
        "---\n",
        "\n",
        "\n",
        "\n",
        "**Parameters**:\n",
        "\n",
        "problem (dict) – The problem definition\n",
        "\n",
        "Y (numpy.array) – A NumPy array containing the model outputs\n",
        "\n",
        "calc second order (bool) – Calculate second-order sensitivities (default True)\n",
        "\n",
        "num resamples (int) – The number of resamples (default 100)\n",
        "\n",
        "conf level (float) – The confidence interval level (default 0.95)\n",
        "\n",
        "print to console (bool) – Print results directly to console (default\n",
        "False)\n",
        "\n",
        "**Returns**: \n",
        "\n",
        "Si – A dictionary of sensitivity indices containing the following\n",
        "entries.\n",
        "\n",
        "S1 - the first order sensitivity\n",
        "\n",
        "S1 conf - the confidence interval of the first order sensitivity with a\n",
        "confidence level of 95%\n",
        "\n",
        "ST - the total effect sensitivity\n",
        "\n",
        "ST conf - the confidence interval of the total effect sensitivity with a\n",
        "confidence level of 95%\n",
        "\n",
        "S2 - the second order sensitivity (if calc second order is True)\n",
        "\n",
        "S2 conf - the confidence interval of second order sensitivity with a\n",
        "confidence level of 95% (if calc second order is True)"
      ]
    },
    {
      "cell_type": "code",
      "metadata": {
        "id": "zMgTwcTU7cXi",
        "colab_type": "code",
        "colab": {
          "base_uri": "https://localhost:8080/",
          "height": 170
        },
        "outputId": "ffe1c02d-9209-4753-e52b-2d1eeb9c4e67"
      },
      "source": [
        "X_sobol_sal = saltelli.sample(ishigami_problem, 1000)\n",
        "Y_sobol_sal = Ishigami.evaluate(X_sobol_sal)\n",
        "Si_sobol_sal = sobol.analyze(ishigami_problem, Y_sobol_sal, print_to_console=True)"
      ],
      "execution_count": 21,
      "outputs": [
        {
          "output_type": "stream",
          "text": [
            "Parameter S1 S1_conf ST ST_conf\n",
            "x1 0.307975 0.063992 0.560137 0.085139\n",
            "x2 0.447767 0.051933 0.438722 0.037422\n",
            "x3 -0.004255 0.061305 0.242845 0.028595\n",
            "\n",
            "Parameter_1 Parameter_2 S2 S2_conf\n",
            "x1 x2 0.012205 0.079924\n",
            "x1 x3 0.251526 0.097520\n",
            "x2 x3 -0.009954 0.067318\n"
          ],
          "name": "stdout"
        }
      ]
    },
    {
      "cell_type": "markdown",
      "metadata": {
        "id": "KY91uKTG_LDJ",
        "colab_type": "text"
      },
      "source": [
        "Now, we use V-function (Sobol g-function) and try the different methods.\n",
        "\n",
        "![](https://raw.githubusercontent.com/Xifus/SA-lab/master/sobolG.PNG)"
      ]
    },
    {
      "cell_type": "code",
      "metadata": {
        "id": "hTpORlOV_1oZ",
        "colab_type": "code",
        "colab": {}
      },
      "source": [
        "V_problem ={'num_vars': 8,\n",
        "          'names': ['x1', 'x2', 'x3', 'x4', 'x5', 'x6', 'x7', 'x8'],\n",
        "          'bounds': [[0, 1]]*8}"
      ],
      "execution_count": 0,
      "outputs": []
    },
    {
      "cell_type": "code",
      "metadata": {
        "id": "fiPEd3IA_3TB",
        "colab_type": "code",
        "colab": {
          "base_uri": "https://localhost:8080/",
          "height": 170
        },
        "outputId": "36c57a0d-ef6d-4c40-83cc-b84eb50b15d3"
      },
      "source": [
        "X_morris_V = morris_samp.sample(V_problem, 999, num_levels=4)\n",
        "Y_morris_V = Sobol_G.evaluate(X_morris_V)\n",
        "Si_morris_V = morris.analyze(V_problem, X_morris_V, Y_morris_V, conf_level=0.95, print_to_console=True, num_levels=4)"
      ],
      "execution_count": 23,
      "outputs": [
        {
          "output_type": "stream",
          "text": [
            "Parameter                         Mu_Star         Mu    Mu_Star_Conf      Sigma\n",
            "x1                                  2.604      0.048           0.051      2.730\n",
            "x2                                  1.482     -0.019           0.048      1.675\n",
            "x3                                  0.569     -0.029           0.022      0.666\n",
            "x4                                  0.327      0.006           0.012      0.383\n",
            "x5                                  0.034      0.000           0.001      0.040\n",
            "x6                                  0.033     -0.002           0.001      0.039\n",
            "x7                                  0.034      0.001           0.001      0.040\n",
            "x8                                  0.034      0.000           0.001      0.040\n"
          ],
          "name": "stdout"
        }
      ]
    },
    {
      "cell_type": "code",
      "metadata": {
        "id": "W0Dvin8A_4uX",
        "colab_type": "code",
        "colab": {
          "base_uri": "https://localhost:8080/",
          "height": 680
        },
        "outputId": "7f1fe47d-99c4-40a3-d69c-558bc69109aa"
      },
      "source": [
        "X_sobol_V = latin.sample(V_problem, 990)\n",
        "Y_sobol_V = Sobol_G.evaluate(X_sobol_V)\n",
        "Si_sobol_V = sobol.analyze(V_problem, Y_sobol_V, print_to_console=True)"
      ],
      "execution_count": 24,
      "outputs": [
        {
          "output_type": "stream",
          "text": [
            "Parameter S1 S1_conf ST ST_conf\n",
            "x1 0.488342 0.436833 1.259946 0.442867\n",
            "x2 -0.082831 0.301988 0.958042 0.350428\n",
            "x3 0.240094 0.235397 0.573560 0.210312\n",
            "x4 0.247635 0.339251 0.756788 0.270318\n",
            "x5 -0.001920 0.310063 1.253777 0.417234\n",
            "x6 0.229312 0.431314 1.216881 0.432299\n",
            "x7 0.234515 0.374657 1.222895 0.427712\n",
            "x8 0.275489 0.310328 0.984541 0.332793\n",
            "\n",
            "Parameter_1 Parameter_2 S2 S2_conf\n",
            "x1 x2 -0.005571 0.581942\n",
            "x1 x3 -0.532664 0.428686\n",
            "x1 x4 -0.644372 0.631366\n",
            "x1 x5 -0.096152 0.622156\n",
            "x1 x6 -0.527393 0.676683\n",
            "x1 x7 -0.573399 0.458694\n",
            "x1 x8 -0.646959 0.512960\n",
            "x2 x3 -0.079631 0.379317\n",
            "x2 x4 -0.027323 0.429688\n",
            "x2 x5 0.328006 0.463241\n",
            "x2 x6 0.151059 0.533072\n",
            "x2 x7 0.202881 0.471388\n",
            "x2 x8 -0.042376 0.415392\n",
            "x3 x4 -0.233605 0.324358\n",
            "x3 x5 -0.265844 0.460033\n",
            "x3 x6 -0.289302 0.395794\n",
            "x3 x7 -0.243974 0.400164\n",
            "x3 x8 -0.228123 0.386568\n",
            "x4 x5 0.165400 0.464510\n",
            "x4 x6 -0.405308 0.649074\n",
            "x4 x7 -0.371415 0.482892\n",
            "x4 x8 -0.202624 0.539367\n",
            "x5 x6 -0.034944 0.553771\n",
            "x5 x7 -0.078380 0.448963\n",
            "x5 x8 0.069303 0.370896\n",
            "x6 x7 -0.375516 0.578569\n",
            "x6 x8 -0.312782 0.514778\n",
            "x7 x8 -0.193224 0.454297\n"
          ],
          "name": "stdout"
        }
      ]
    },
    {
      "cell_type": "code",
      "metadata": {
        "id": "_YL_056V_7q_",
        "colab_type": "code",
        "colab": {
          "base_uri": "https://localhost:8080/",
          "height": 680
        },
        "outputId": "e81d96c5-aaed-4cb9-f7b7-d26bff665ead"
      },
      "source": [
        "X_sobol_V_sal = saltelli.sample(V_problem, 1000)\n",
        "Y_sobol_V_sal = Sobol_G.evaluate(X_sobol_V_sal)\n",
        "Si_sobol_V_sal = sobol.analyze(V_problem, Y_sobol_V_sal, print_to_console=True)"
      ],
      "execution_count": 25,
      "outputs": [
        {
          "output_type": "stream",
          "text": [
            "Parameter S1 S1_conf ST ST_conf\n",
            "x1 0.733626 0.064223 0.806226 0.073950\n",
            "x2 0.175758 0.038144 0.237422 0.029530\n",
            "x3 0.022473 0.016104 0.035913 0.004116\n",
            "x4 0.007583 0.008637 0.010419 0.001481\n",
            "x5 -0.000057 0.000849 0.000100 0.000012\n",
            "x6 0.000243 0.000929 0.000105 0.000013\n",
            "x7 0.000293 0.000876 0.000103 0.000013\n",
            "x8 0.000037 0.000811 0.000102 0.000013\n",
            "\n",
            "Parameter_1 Parameter_2 S2 S2_conf\n",
            "x1 x2 0.068216 0.107103\n",
            "x1 x3 0.014943 0.094969\n",
            "x1 x4 0.000089 0.089100\n",
            "x1 x5 0.001780 0.087728\n",
            "x1 x6 0.001335 0.087618\n",
            "x1 x7 0.001594 0.087589\n",
            "x1 x8 0.001489 0.087847\n",
            "x2 x3 -0.004813 0.060279\n",
            "x2 x4 -0.006075 0.059562\n",
            "x2 x5 -0.006677 0.058769\n",
            "x2 x6 -0.006721 0.058710\n",
            "x2 x7 -0.006681 0.058780\n",
            "x2 x8 -0.006558 0.058772\n",
            "x3 x4 0.001727 0.027188\n",
            "x3 x5 0.002317 0.027040\n",
            "x3 x6 0.002292 0.027037\n",
            "x3 x7 0.002335 0.027091\n",
            "x3 x8 0.002327 0.027044\n",
            "x4 x5 0.000574 0.013504\n",
            "x4 x6 0.000579 0.013515\n",
            "x4 x7 0.000437 0.013514\n",
            "x4 x8 0.000454 0.013505\n",
            "x5 x6 0.000077 0.001351\n",
            "x5 x7 0.000077 0.001352\n",
            "x5 x8 0.000079 0.001351\n",
            "x6 x7 -0.000160 0.001492\n",
            "x6 x8 -0.000159 0.001489\n",
            "x7 x8 -0.000497 0.001476\n"
          ],
          "name": "stdout"
        }
      ]
    },
    {
      "cell_type": "markdown",
      "metadata": {
        "id": "3xbYdw9O_-8v",
        "colab_type": "text"
      },
      "source": [
        "**Convergence**\n",
        "\n",
        "Try different samples and see how good the convergence is. How many samples do you need to get a reliable results? What is the accuracy?\n",
        "\n",
        "Use the knowledge from previous steps and try to use different sampling techniques/sensitivity analysis method/sensitivity measures.\n",
        "\n",
        "For example, changing Saltelli sampling method to Latin Hypercube; changing Sobol method to Morris method; changing first order to total effect.\n",
        "\n",
        "Note: Morris method uses its own sampling method."
      ]
    },
    {
      "cell_type": "code",
      "metadata": {
        "id": "9bwYtva__9HX",
        "colab_type": "code",
        "colab": {}
      },
      "source": [
        "N_samples = [1000, 5000, 10000, 50000, 100000, 500000]"
      ],
      "execution_count": 0,
      "outputs": []
    },
    {
      "cell_type": "code",
      "metadata": {
        "id": "fKC7ZDl3ACc_",
        "colab_type": "code",
        "colab": {}
      },
      "source": [
        "var_num = 3"
      ],
      "execution_count": 0,
      "outputs": []
    },
    {
      "cell_type": "code",
      "metadata": {
        "id": "m1x3dYKLAEFQ",
        "colab_type": "code",
        "colab": {}
      },
      "source": [
        "S1_cache = np.zeros((len(N_samples), var_num))\n",
        "ST_cache = S1_cache.copy()"
      ],
      "execution_count": 0,
      "outputs": []
    },
    {
      "cell_type": "code",
      "metadata": {
        "id": "moif_Ip8AFVC",
        "colab_type": "code",
        "colab": {}
      },
      "source": [
        "for i in range(len(N_samples)):\n",
        "    X_sobol_N = saltelli.sample(ishigami_problem, N_samples[i])\n",
        "    Y_sobol_N = Ishigami.evaluate(X_sobol_N)\n",
        "    Si_sobol_N = sobol.analyze(ishigami_problem, Y_sobol_N, print_to_console=False)\n",
        "    S1_cache[i, :] = Si_sobol_N['S1']\n",
        "    ST_cache[i, :] = Si_sobol_N['ST']"
      ],
      "execution_count": 0,
      "outputs": []
    },
    {
      "cell_type": "code",
      "metadata": {
        "id": "baRbmizKAGn4",
        "colab_type": "code",
        "colab": {
          "base_uri": "https://localhost:8080/",
          "height": 269
        },
        "outputId": "99889ee6-c0e9-4d36-ff33-88a819894925"
      },
      "source": [
        "plt.figure()\n",
        "plt.plot(S1_cache[:, 0])\n",
        "plt.axhline(y = 0.3139, c = 'r', linestyle = '--', label = 'exact value')\n",
        "plt.legend(loc = 'best')\n",
        "plt.xticks(np.arange(len(N_samples)), N_samples)\n",
        "plt.show()"
      ],
      "execution_count": 30,
      "outputs": [
        {
          "output_type": "display_data",
          "data": {
            "image/png": "[encoded data removed]",
            "text/plain": [
              "<Figure size 432x288 with 1 Axes>"
            ]
          },
          "metadata": {
            "tags": []
          }
        }
      ]
    },
    {
      "cell_type": "markdown",
      "metadata": {
        "id": "P4VcTT6GBVcw",
        "colab_type": "text"
      },
      "source": [
        "Here are the exact values for first order and total effect sensitivity indices for reference.\n",
        "\n",
        "***Ishigami Homma Function***\n",
        "\n",
        "![](https://raw.githubusercontent.com/Xifus/SA-lab/master/ishigami_sobol.PNG)\n",
        "\n",
        "\n",
        "***V-Fnction (Sobol g-Function)***\n",
        "\n",
        "![](https://raw.githubusercontent.com/Xifus/SA-lab/master/gsobol_sobol.PNG)"
      ]
    }
  ]
}